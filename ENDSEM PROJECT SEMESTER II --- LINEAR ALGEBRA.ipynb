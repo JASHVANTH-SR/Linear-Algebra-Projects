{
 "cells": [
  {
   "cell_type": "code",
   "execution_count": 5,
   "id": "43365a1f",
   "metadata": {},
   "outputs": [
    {
     "name": "stdout",
     "output_type": "stream",
     "text": [
      "________________________----Welcome to Linear Algebra Calculator Material----________________________\n",
      "\n",
      "\n",
      "\n",
      "\n",
      "1 -- UNIT-I   -- SOLVING SYSTEM OF LINEAR EQUATIONS\n",
      "2 -- UNIT-II  -- LINEAR DEPENDANCY AND BASIS FORMATION CHECKING\n",
      "3 -- UNIT-III -- FINDING EIGEN VALUE AND EIGEN VECTOR\n",
      "4 -- UNIT-IV  -- ORTHOGONALIZATION\n",
      "5 -- UNIT-V   -- QR DECOMPOSITION\n",
      "Enter Your Choice of Chapter : 1\n",
      "-------------Welcome! To Solving system Of Linear Equations---------------\n",
      "2.2X2 Matrix\n",
      "3.3X3 Matrix\n",
      "4.4X4 Matrix\n",
      "which nXn matrix you want : 4\n"
     ]
    },
    {
     "data": {
      "text/plain": [
       "'Using Sympy Module'"
      ]
     },
     "metadata": {},
     "output_type": "display_data"
    },
    {
     "data": {
      "text/plain": [
       "'--------------------------------------------------------------------'"
      ]
     },
     "metadata": {},
     "output_type": "display_data"
    },
    {
     "name": "stdout",
     "output_type": "stream",
     "text": [
      "Enter your w1 coefficient : 5\n",
      "Enter your X1 coefficient : 1\n",
      "Enter your Y1 coefficient : 1\n",
      "Enter your z1 coefficient : 1\n"
     ]
    },
    {
     "data": {
      "text/plain": [
       "'--------------------------------------------------------------------'"
      ]
     },
     "metadata": {},
     "output_type": "display_data"
    },
    {
     "name": "stdout",
     "output_type": "stream",
     "text": [
      "Enter your w2 coefficient : 1\n",
      "Enter your X2 coefficient : 7\n",
      "Enter your Y2 coefficient : 1\n",
      "Enter your z2 coefficient : 1\n"
     ]
    },
    {
     "data": {
      "text/plain": [
       "'--------------------------------------------------------------------'"
      ]
     },
     "metadata": {},
     "output_type": "display_data"
    },
    {
     "name": "stdout",
     "output_type": "stream",
     "text": [
      "Enter your w3 coefficient : 1\n",
      "Enter your X3 coefficient : 1\n",
      "Enter your Y3 coefficient : 6\n",
      "Enter your z3 coefficient : 1\n"
     ]
    },
    {
     "data": {
      "text/plain": [
       "'--------------------------------------------------------------------'"
      ]
     },
     "metadata": {},
     "output_type": "display_data"
    },
    {
     "name": "stdout",
     "output_type": "stream",
     "text": [
      "Enter your w4 coefficient : 1\n",
      "Enter your X4 coefficient : 1\n",
      "Enter your Y4 coefficient : 1\n",
      "Enter your z4 coefficient : 4\n"
     ]
    },
    {
     "data": {
      "text/plain": [
       "'--------------------------------------------------------------------'"
      ]
     },
     "metadata": {},
     "output_type": "display_data"
    },
    {
     "name": "stdout",
     "output_type": "stream",
     "text": [
      "Enter your constant 1 : 4\n",
      "Enter your constant 2 : 12\n",
      "Enter your constant 3 : -5\n",
      "Enter your constant 4 : -6\n"
     ]
    },
    {
     "data": {
      "text/plain": [
       "'--------------------------------------------------------------------'"
      ]
     },
     "metadata": {},
     "output_type": "display_data"
    },
    {
     "data": {
      "image/png": "[encoded data removed]",
      "text/latex": [
       "$\\displaystyle 5 w + x + y + z = 4$"
      ],
      "text/plain": [
       "5⋅w + x + y + z = 4"
      ]
     },
     "metadata": {},
     "output_type": "display_data"
    },
    {
     "data": {
      "image/png": "[encoded data removed]",
      "text/latex": [
       "$\\displaystyle w + 7 x + y + z = 12$"
      ],
      "text/plain": [
       "w + 7⋅x + y + z = 12"
      ]
     },
     "metadata": {},
     "output_type": "display_data"
    },
    {
     "data": {
      "image/png": "[encoded data removed]",
      "text/latex": [
       "$\\displaystyle w + x + 6 y + z = -5$"
      ],
      "text/plain": [
       "w + x + 6⋅y + z = -5"
      ]
     },
     "metadata": {},
     "output_type": "display_data"
    },
    {
     "data": {
      "image/png": "[encoded data removed]",
      "text/latex": [
       "$\\displaystyle w + x + y + 4 z = -6$"
      ],
      "text/plain": [
       "w + x + y + 4⋅z = -6"
      ]
     },
     "metadata": {},
     "output_type": "display_data"
    },
    {
     "data": {
      "text/latex": [
       "$\\displaystyle \\left[\\begin{matrix}5 & 1 & 1 & 1 & 4\\\\1 & 7 & 1 & 1 & 12\\\\1 & 1 & 6 & 1 & -5\\\\1 & 1 & 1 & 4 & -6\\end{matrix}\\right]$"
      ],
      "text/plain": [
       "⎡5  1  1  1  4 ⎤\n",
       "⎢              ⎥\n",
       "⎢1  7  1  1  12⎥\n",
       "⎢              ⎥\n",
       "⎢1  1  6  1  -5⎥\n",
       "⎢              ⎥\n",
       "⎣1  1  1  4  -6⎦"
      ]
     },
     "metadata": {},
     "output_type": "display_data"
    },
    {
     "data": {
      "text/plain": [
       "'System is Consistent'"
      ]
     },
     "metadata": {},
     "output_type": "display_data"
    },
    {
     "data": {
      "image/png": "[encoded data removed]",
      "text/latex": [
       "$\\displaystyle \\left\\{ w : 1, \\  x : 2, \\  y : -1, \\  z : -2\\right\\}$"
      ],
      "text/plain": [
       "{w: 1, x: 2, y: -1, z: -2}"
      ]
     },
     "metadata": {},
     "output_type": "display_data"
    },
    {
     "data": {
      "text/plain": [
       "'Execution Time : '"
      ]
     },
     "metadata": {},
     "output_type": "display_data"
    },
    {
     "data": {
      "image/png": "[encoded data removed]",
      "text/latex": [
       "$\\displaystyle 0.0840287208557129$"
      ],
      "text/plain": [
       "0.08402872085571289"
      ]
     },
     "metadata": {},
     "output_type": "display_data"
    },
    {
     "name": "stdout",
     "output_type": "stream",
     "text": [
      "Using Numpy module\n",
      "--------------------------------------------------------------------\n"
     ]
    },
    {
     "data": {
      "text/plain": [
       "array([[5, 1, 1, 1],\n",
       "       [1, 7, 1, 1],\n",
       "       [1, 1, 6, 1],\n",
       "       [1, 1, 1, 4]])"
      ]
     },
     "metadata": {},
     "output_type": "display_data"
    },
    {
     "data": {
      "text/plain": [
       "array([ 4, 12, -5, -6])"
      ]
     },
     "metadata": {},
     "output_type": "display_data"
    },
    {
     "name": "stdout",
     "output_type": "stream",
     "text": [
      "--------------------------------------------------------------------\n"
     ]
    },
    {
     "data": {
      "text/plain": [
       "'w= '"
      ]
     },
     "metadata": {},
     "output_type": "display_data"
    },
    {
     "data": {
      "image/png": "[encoded data removed]",
      "text/latex": [
       "$\\displaystyle 1$"
      ],
      "text/plain": [
       "1"
      ]
     },
     "metadata": {},
     "output_type": "display_data"
    },
    {
     "data": {
      "text/plain": [
       "'x= '"
      ]
     },
     "metadata": {},
     "output_type": "display_data"
    },
    {
     "data": {
      "image/png": "[encoded data removed]",
      "text/latex": [
       "$\\displaystyle 2$"
      ],
      "text/plain": [
       "2"
      ]
     },
     "metadata": {},
     "output_type": "display_data"
    },
    {
     "data": {
      "text/plain": [
       "'y= '"
      ]
     },
     "metadata": {},
     "output_type": "display_data"
    },
    {
     "data": {
      "image/png": "[encoded data removed]",
      "text/latex": [
       "$\\displaystyle 0$"
      ],
      "text/plain": [
       "0"
      ]
     },
     "metadata": {},
     "output_type": "display_data"
    },
    {
     "data": {
      "text/plain": [
       "'z= '"
      ]
     },
     "metadata": {},
     "output_type": "display_data"
    },
    {
     "data": {
      "image/png": "[encoded data removed]",
      "text/latex": [
       "$\\displaystyle -2$"
      ],
      "text/plain": [
       "-2"
      ]
     },
     "metadata": {},
     "output_type": "display_data"
    },
    {
     "name": "stdout",
     "output_type": "stream",
     "text": [
      "--------------------------------------------------------------------\n"
     ]
    },
    {
     "data": {
      "text/plain": [
       "'Execution time : '"
      ]
     },
     "metadata": {},
     "output_type": "display_data"
    },
    {
     "data": {
      "image/png": "[encoded data removed]",
      "text/latex": [
       "$\\displaystyle 0.000997543334960938$"
      ],
      "text/plain": [
       "0.0009975433349609375"
      ]
     },
     "metadata": {},
     "output_type": "display_data"
    },
    {
     "name": "stdout",
     "output_type": "stream",
     "text": [
      "--------------------------------------------------------------------\n"
     ]
    }
   ],
   "source": [
    "from sympy.interactive import printing\n",
    "printing.init_printing(use_latex=True)\n",
    "from sympy import Eq,solve_linear_system,Matrix,det,transpose,Transpose,symbols,trace,Trace\n",
    "from sympy.solvers import solve\n",
    "from sympy import simplify,sqrt\n",
    "from sympy.physics.quantum import Bra,Ket\n",
    "from numpy import linalg\n",
    "from time import time\n",
    "import numpy as np\n",
    "import sympy as sp\n",
    "\n",
    "print('________________________----Welcome to Linear Algebra Calculator Material----________________________')\n",
    "print('\\n\\n\\n')\n",
    "print('1 -- UNIT-I   -- SOLVING SYSTEM OF LINEAR EQUATIONS')\n",
    "print('2 -- UNIT-II  -- LINEAR DEPENDANCY AND BASIS FORMATION CHECKING')\n",
    "print('3 -- UNIT-III -- FINDING EIGEN VALUE AND EIGEN VECTOR')\n",
    "print('4 -- UNIT-IV  -- ORTHOGONALIZATION')\n",
    "print('5 -- UNIT-V   -- QR DECOMPOSITION')\n",
    "\n",
    "inum=int(input('Enter Your Choice of Chapter : '))\n",
    "if inum==1:\n",
    "    print(\"-------------Welcome! To Solving system Of Linear Equations---------------\")\n",
    "\n",
    "\n",
    "    print(\"2.2X2 Matrix\")\n",
    "    print(\"3.3X3 Matrix\")\n",
    "    print(\"4.4X4 Matrix\")\n",
    "\n",
    "    u=int(input(\"which nXn matrix you want : \"))\n",
    "    display(\"Using Sympy Module\")\n",
    "    if u==2:\n",
    "        display(\"--------------------------------------------------------------------\")\n",
    "        eq1=sp.Function(\"eq1\")\n",
    "        eq2=sp.Function(\"eq2\")\n",
    "        x,y=sp.symbols(\"x y\")\n",
    "        x1=int(input(\"Enter your X1 coefficient : \"))\n",
    "        y1=int(input(\"Enter your Y1 coefficient : \"))\n",
    "        display(\"--------------------------------------------------------------------\")\n",
    "        x2=int(input(\"Enter your X2 coefficient : \"))\n",
    "        y2=int(input(\"Enter your Y2 coefficient : \"))\n",
    "        display(\"--------------------------------------------------------------------\")\n",
    "        c1=int(input(\"Enter your constant 1 : \"))\n",
    "        c2=int(input(\"Enter your constant 2 : \"))\n",
    "        display(\"--------------------------------------------------------------------\")\n",
    "\n",
    "        eq1=sp.Function(\"eq1\")\n",
    "        eq2=sp.Function(\"eq2\")\n",
    "        x,y=sp.symbols('x y')\n",
    "\n",
    "        eq1=Eq(x1*x+y1*y,c1)\n",
    "        eq2=Eq(x2*x+y2*y,c2)\n",
    "\n",
    "        display(eq1)\n",
    "        display(eq2)\n",
    "\n",
    "        row1=[x1,y1,c1]\n",
    "        row2=[x2,y2,c2]\n",
    "        system=Matrix((row1,row2))\n",
    "        display(system)\n",
    "        start=time()\n",
    "        if(solve_linear_system(system,x,y)==None):\n",
    "            display(\"System is Inconsistent\")\n",
    "        else:\n",
    "            display(\"System is Consistent\")\n",
    "            display(solve_linear_system(system,x,y))\n",
    "        end=time()\n",
    "        display(\"Execution Time : \",end-start)\n",
    "\n",
    "\n",
    "    if u==3:\n",
    "        display(\"--------------------------------------------------------------------\")\n",
    "\n",
    "        x1=int(input(\"Enter your X1 coefficient : \"))\n",
    "        y1=int(input(\"Enter your Y1 coefficient : \"))\n",
    "        z1=int(input(\"Enter your z1 coefficient : \"))\n",
    "\n",
    "        display(\"--------------------------------------------------------------------\")\n",
    "\n",
    "        x2=int(input(\"Enter your X2 coefficient : \"))\n",
    "        y2=int(input(\"Enter your Y2 coefficient : \"))\n",
    "        z2=int(input(\"Enter your z2 coefficient : \"))\n",
    "\n",
    "        display(\"--------------------------------------------------------------------\")\n",
    "\n",
    "        x3=int(input(\"Enter your X3 coefficient : \"))\n",
    "        y3=int(input(\"Enter your Y3 coefficient : \"))\n",
    "        z3=int(input(\"Enter your z3 coefficient : \"))\n",
    "\n",
    "        display(\"--------------------------------------------------------------------\")\n",
    "\n",
    "        c1=int(input(\"Enter your constant 1 : \"))\n",
    "        c2=int(input(\"Enter your constant 2 : \"))\n",
    "        c3=int(input(\"Enter your constant 3 : \"))\n",
    "\n",
    "        display(\"--------------------------------------------------------------------\")\n",
    "\n",
    "        eq1=sp.Function(\"eq1\")\n",
    "        eq2=sp.Function(\"eq2\")\n",
    "        eq3=sp.Function(\"eq3\")\n",
    "\n",
    "        x,y,z=sp.symbols('x y z')\n",
    "\n",
    "        eq1=Eq(x1*x+y1*y+z1*z,c1)\n",
    "        eq2=Eq(x2*x+y2*y+z2*z,c2)\n",
    "        eq3=Eq(x3*x+y3*y+z3*z,c3)\n",
    "\n",
    "        display(eq1)\n",
    "        display(eq2)\n",
    "        display(eq3)\n",
    "\n",
    "        row1=[x1,y1,z1,c1]\n",
    "        row2=[x2,y2,z2,c2]\n",
    "        row3=[x3,y3,z3,c3]\n",
    "\n",
    "        system=Matrix((row1,row2,row3))\n",
    "        display(system)\n",
    "        start=time()\n",
    "        if(solve_linear_system(system,x,y,z)==None):\n",
    "            display(\"System is Inconsistent\")\n",
    "        else:\n",
    "            display(\"System is Consistent\")\n",
    "            display(solve_linear_system(system,x,y,z))\n",
    "        end=time()\n",
    "        display(\"Execution Time : \",end-start)\n",
    "\n",
    "    if u==4:\n",
    "        display(\"--------------------------------------------------------------------\")\n",
    "        w1=int(input(\"Enter your w1 coefficient : \"))\n",
    "        x1=int(input(\"Enter your X1 coefficient : \"))\n",
    "        y1=int(input(\"Enter your Y1 coefficient : \"))\n",
    "        z1=int(input(\"Enter your z1 coefficient : \"))\n",
    "        display(\"--------------------------------------------------------------------\")\n",
    "        w2=int(input(\"Enter your w2 coefficient : \"))\n",
    "        x2=int(input(\"Enter your X2 coefficient : \"))\n",
    "        y2=int(input(\"Enter your Y2 coefficient : \"))\n",
    "        z2=int(input(\"Enter your z2 coefficient : \"))\n",
    "        display(\"--------------------------------------------------------------------\")\n",
    "        w3=int(input(\"Enter your w3 coefficient : \"))\n",
    "        x3=int(input(\"Enter your X3 coefficient : \"))\n",
    "        y3=int(input(\"Enter your Y3 coefficient : \"))\n",
    "        z3=int(input(\"Enter your z3 coefficient : \"))\n",
    "        display(\"--------------------------------------------------------------------\")\n",
    "\n",
    "        w4=int(input(\"Enter your w4 coefficient : \"))\n",
    "        x4=int(input(\"Enter your X4 coefficient : \"))\n",
    "        y4=int(input(\"Enter your Y4 coefficient : \"))\n",
    "        z4=int(input(\"Enter your z4 coefficient : \"))\n",
    "\n",
    "        display(\"--------------------------------------------------------------------\")\n",
    "\n",
    "        c1=int(input(\"Enter your constant 1 : \"))\n",
    "        c2=int(input(\"Enter your constant 2 : \"))\n",
    "        c3=int(input(\"Enter your constant 3 : \"))\n",
    "        c4=int(input(\"Enter your constant 4 : \"))\n",
    "\n",
    "        display(\"--------------------------------------------------------------------\")\n",
    "\n",
    "        eq1=sp.Function(\"eq1\")\n",
    "        eq2=sp.Function(\"eq2\")\n",
    "        eq3=sp.Function(\"eq3\")\n",
    "        eq4=sp.Function(\"eq4\")\n",
    "        w,x,y,z=sp.symbols('w x y z')\n",
    "\n",
    "\n",
    "        eq1=Eq(w1*w+x1*x+y1*y+z1*z,c1)\n",
    "        eq2=Eq(w2*w+x2*x+y2*y+z2*z,c2)\n",
    "        eq3=Eq(w3*w+x3*x+y3*y+z3*z,c3)\n",
    "        eq4=Eq(w4*w+x4*x+y4*y+z4*z,c4)\n",
    "\n",
    "\n",
    "        display(eq1)\n",
    "        display(eq2)\n",
    "        display(eq3)\n",
    "        display(eq4)\n",
    "\n",
    "        row1=[w1,x1,y1,z1,c1]\n",
    "        row2=[w2,x2,y2,z2,c2]\n",
    "        row3=[w3,x3,y3,z3,c3]\n",
    "        row4=[w4,x4,y4,z4,c4]\n",
    "\n",
    "\n",
    "        system=Matrix((row1,row2,row3,row4))\n",
    "        display(system)\n",
    "        start=time()\n",
    "        if(solve_linear_system(system,w,x,y,z)==None):\n",
    "            display(\"System is Inconsistent\")\n",
    "        else:\n",
    "            display(\"System is Consistent\")\n",
    "            display(solve_linear_system(system,w,x,y,z))\n",
    "\n",
    "        end=time()\n",
    "        display(\"Execution Time : \",end-start)\n",
    "\n",
    "\n",
    "\n",
    "    print(\"Using Numpy module\")\n",
    "    print(\"--------------------------------------------------------------------\")\n",
    "    if u==2:\n",
    "        nrow1=[x1,y1]\n",
    "        nrow2=[x2,y2]\n",
    "\n",
    "        nmat=np.array([nrow1,nrow2])\n",
    "        cons=np.array([c1,c2])\n",
    "        display(nmat,cons)\n",
    "\n",
    "        start1=time()\n",
    "        answer=linalg.solve(nmat,cons)\n",
    "        end1=time()\n",
    "        xval=answer[0]\n",
    "        yval=answer[1]\n",
    "        print(\"--------------------------------------------------------------------\")\n",
    "\n",
    "        display(\"x= \",float(xval))\n",
    "        display(\"y= \",float(yval))\n",
    "        display(\"--------------------------------------------------------------------\")\n",
    "        display(\"Execution time : \",end1-start1)\n",
    "        display(\"--------------------------------------------------------------------\")\n",
    "\n",
    "    if u==3:\n",
    "        nrow1=[x1,y1,z1]\n",
    "        nrow2=[x2,y2,z2]\n",
    "        nrow3=[x3,y3,z3]\n",
    "\n",
    "        nmat=np.array([nrow1,nrow2,nrow3])\n",
    "        cons=np.array([c1,c2,c3])\n",
    "        display(nmat,cons)\n",
    "\n",
    "        start1=time()\n",
    "        answer=linalg.solve(nmat,cons)\n",
    "        end1=time()\n",
    "        xval=answer[0]\n",
    "        yval=answer[1]\n",
    "        zval=answer[2]\n",
    "        print(\"--------------------------------------------------------------------\")\n",
    "\n",
    "        display(\"x= \",float(xval))\n",
    "        display(\"y= \",float(yval))\n",
    "        display(\"z= \",float(zval))\n",
    "\n",
    "        print(\"--------------------------------------------------------------------\")\n",
    "        display(\"Execution time : \",end1-start1)\n",
    "        print(\"--------------------------------------------------------------------\")\n",
    "\n",
    "    if u==4:\n",
    "        nrow1=[w1,x1,y1,z1]\n",
    "        nrow2=[w2,x2,y2,z2]\n",
    "        nrow3=[w3,x3,y3,z3]\n",
    "        nrow4=[w4,x4,y4,z4]\n",
    "\n",
    "        nmat=np.array([nrow1,nrow2,nrow3,nrow4])\n",
    "        cons=np.array([c1,c2,c3,c4])\n",
    "        display(nmat,cons)\n",
    "\n",
    "        start1=time()\n",
    "        answer=linalg.solve(nmat,cons)\n",
    "        end1=time()\n",
    "        wval=answer[0]\n",
    "        xval=answer[1]\n",
    "        yval=answer[2]\n",
    "        zval=answer[3]\n",
    "        print(\"--------------------------------------------------------------------\")\n",
    "\n",
    "        display(\"w= \",int(wval))\n",
    "        display(\"x= \",int(xval))\n",
    "        display(\"y= \",int(yval))\n",
    "        display(\"z= \",int(zval))\n",
    "\n",
    "        print(\"--------------------------------------------------------------------\")\n",
    "        display(\"Execution time : \",end1-start1)\n",
    "        print(\"--------------------------------------------------------------------\")\n",
    "elif inum==2:\n",
    "    print(\"------------- Welcome! To Find linear combination dependancy and basis formation checking ---------------\")\n",
    "    no=int(input(\"No of Times you going to execute the program : \"))\n",
    "    for j in range(0,no):\n",
    "        n=int(input('Number of vectors : '))\n",
    "        m,a,e,g=sp.symbols('* + = -->')\n",
    "        if n==2:\n",
    "                x,y,m,a,e,g=sp.symbols(\"x1 x2 * + = -->\")\n",
    "                a11,a12=map(int,input(\"Enter 1st row : \").split())\n",
    "                a21,a22=map(int,input(\"Enter 2nd row : \").split())\n",
    "                vect1,vect2=[a11,a12],[a21,a22]\n",
    "                amat=Matrix((vect1,vect2))\n",
    "                print(\"Given Matrix\")\n",
    "                display(amat)\n",
    "                print('now')\n",
    "                display(((x,m,vect1),a,(y,m,vect2),e,(0,0),g))\n",
    "                r1,r2=[a11,a21,0],[a12,a22,0]\n",
    "\n",
    "                eq1,eq2,eqn,eqm=sp.Function(\"eq1\"),sp.Function(\"eq2\"),sp.Function(\"eqn\"),sp.Function(\"eqm\")\n",
    "                eqm=(a11*x,a12*x)\n",
    "                eqn=(a21*y,a22*y)\n",
    "                display((eqm,a,eqn,e,(0,0)))\n",
    "                eq1,eq2=Eq(a11*x+a21*y,0),Eq(a12*x+a22*y,0)\n",
    "                display(eq1,eq2)\n",
    "                print(\"arranged matrix\")\n",
    "                display((transpose(amat),Matrix((x,y)),e,Matrix((0,0))))\n",
    "                system=Matrix((r1,r2))\n",
    "                print(\"augmented form\")\n",
    "                display(system)\n",
    "\n",
    "                print(\"\\n\\n\\nThe two vectors are \")\n",
    "                if(det(amat)==0):\n",
    "                    print(\"linearly dependant\")\n",
    "                    display(solve_linear_system(system,x,y))\n",
    "                    print(\"dim R2 != 2, The given vectors NOT form a basis of R^2\")\n",
    "                else:\n",
    "                    print(\"linearly independant\")\n",
    "                    display(solve_linear_system(system,x,y))\n",
    "                    print(\"The given vectors does form a basis of R^2\")\n",
    "        if n==3:\n",
    "                x,y,z=sp.symbols(\"x1 x2 x3\")\n",
    "                a11,a12,a13=map(int,input(\"Enter 1st row : \").split())\n",
    "                a21,a22,a23=map(int,input(\"Enter 2nd row : \").split())\n",
    "                a31,a32,a33=map(int,input(\"Enter 3rd row : \").split())\n",
    "                vect1,vect2,vect3=[a11,a12,a13],[a21,a22,a23],[a31,a32,a33]\n",
    "                amat=Matrix((vect1,vect2,vect3))\n",
    "                print(\"Given Matrix\")\n",
    "                display(amat)\n",
    "                print('now')\n",
    "                display(((x,m,vect1),a,(y,m,vect2),a,(z,m,vect3),e,(0,0,0),g))\n",
    "                r1,r2,r3=[a11,a21,a31,0],[a12,a22,a32,0],[a13,a23,a33,0]\n",
    "                eq1,eq2,eq3,eqn,eqm,eqo=sp.Function(\"eq1\"),sp.Function(\"eq2\"),sp.Function(\"eq3\"),sp.Function(\"eqn\"),sp.Function(\"eqm\"),sp.Function(\"eqo\")\n",
    "                eqm=(a11*x,a12*x,a13*x)\n",
    "                eqn=(a21*y,a22*y,a23*y)\n",
    "                eqo=(a31*z,a32*z,a33*z)\n",
    "                display((eqm,a,eqn,a,eqo,e,(0,0,0),g))\n",
    "                eq1,eq2,eq3=Eq(a11*x+a21*y+a31*z,0),Eq(a12*x+a22*y+a32*z,0),Eq(a13*x+a23*y+a33*z,0)\n",
    "                display(eq1,eq2,eq3)\n",
    "                print(\"arranged matrix\")\n",
    "                display((transpose(amat),Matrix((x,y,z)),e,Matrix((0,0,0))))\n",
    "                system=Matrix((r1,r2,r3))\n",
    "                print(\"augmented form\")\n",
    "                display(system)\n",
    "\n",
    "                print(\"\\n\\n\\nThe two vectors are \")\n",
    "                if(det(transpose(amat))==0):\n",
    "                    print(\"linearly dependant\")\n",
    "                    display(solve_linear_system(system,x,y,z))\n",
    "                    print(\"dim R3 != 3, The given vectors NOT form a basis of R^3\")\n",
    "                else:\n",
    "                    print(\"linearly independant\")\n",
    "                    display(solve_linear_system(system,x,y,z))\n",
    "                    print(\"The given vectors does form a basis of R^3\")\n",
    "        if n==4:\n",
    "                x,y,z,w=sp.symbols(\"x1 x2 x3 x4\")\n",
    "                a11,a12,a13,a14=map(int,input(\"Enter 1st row : \").split())\n",
    "                a21,a22,a23,a24=map(int,input(\"Enter 2nd row : \").split())\n",
    "                a31,a32,a33,a34=map(int,input(\"Enter 3rd row : \").split())\n",
    "                a41,a42,a43,a44=map(int,input(\"Enter 4th row : \").split())\n",
    "                vect1,vect2,vect3,vect4=[a11,a12,a13,a14],[a21,a22,a23,a24],[a31,a32,a33,a34],[a41,a42,a43,a44]\n",
    "                amat=Matrix((vect1,vect2,vect3,vect4))\n",
    "                print(\"Given Matrix\")\n",
    "                display(amat)\n",
    "                print('now')\n",
    "                display(((x,m,vect1),a,(y,m,vect2),a,(z,m,vect3),a,(w,m,vect4),e,(0,0,0,0),g))\n",
    "                r1,r2,r3,r4=[a11,a21,a31,a41,0],[a12,a22,a32,a42,0],[a13,a23,a33,a43,0],[a14,a24,a34,a44,0]\n",
    "                eq1,eq2,eq3,eq4=sp.Function(\"eq1\"),sp.Function(\"eq2\"),sp.Function(\"eq3\"),sp.Function(\"eq4\")\n",
    "                eqm=(a11*x,a12*x,a13*x,a14*x)\n",
    "                eqn=(a21*y,a22*y,a23*y,a24*y)\n",
    "                eqo=(a31*z,a32*z,a33*z,a34*z)\n",
    "                eqp=(a41*w,a42*w,a43*w,a44*w)\n",
    "                display((eqm,a,eqn,a,eqo,a,eqp,e,(0,0,0,0),g))\n",
    "                eq1,eq2,eq3,eq4=Eq(a11*x+a21*y+a31*z+a41*w,0),Eq(a12*x+a22*y+a32*z+a42*w,0),Eq(a13*x+a23*y+a33*z+a43*w,0),Eq(a14*x+a24*y+a34*z+a44*w,0)\n",
    "                display(eq1,eq2,eq3,eq4)\n",
    "                system=Matrix((r1,r2,r3,r4))\n",
    "                print('rearranged matrix')\n",
    "                display((transpose(amat),Matrix((x,y,z,w)),e,Matrix((0,0,0,0))))\n",
    "                print(\"augmented form\")\n",
    "                display(system)\n",
    "\n",
    "                print(\"\\n\\n\\nThe two vectors are \")\n",
    "                if(det(amat)==0):\n",
    "                    print(\"linearly dependant\")\n",
    "                    display(solve_linear_system(system,x,y,z,w))\n",
    "                    print(\"dim R4 != 4, The given vectors NOT form a basis of R^4\")\n",
    "                else:\n",
    "                    print(\"linearly independant\")\n",
    "                    display(solve_linear_system(system,x,y,z,w))\n",
    "                    print(\"The given vectors form a basis of R^4\")\n",
    "    print('_______________________________________________')\n",
    "elif inum==3:\n",
    "    a11,a12,a13,a21,a22,a23,a31,a32,a33=map(int,input(\"Enter the matrix coefficients : \").split())\n",
    "    r1=[a11,a12,a13]\n",
    "    r2=[a21,a22,a23]\n",
    "    r3=[a31,a32,a33]\n",
    "    amat=sp.Matrix((r1,r2,r3))\n",
    "    print(\"Input matrix\")\n",
    "    display(amat)\n",
    "    s1=a11+a22+a33\n",
    "    display('S1={0}+{1}+{2}'.format(a11,a22,a33))\n",
    "    display('s1={0}'.format(s1))\n",
    "    s2=(((a22*a33)-(a32*a23))+((a11*a33)-(a31*a13))+((a11*a22)-(a21*a12)))\n",
    "    display('s2=((({0}*{1})-({2}*{3}))+(({4}*{5})-({6}*{7}))+(({8}*{9})-({10}*{11}))'.format(a22,a33,a32,a23,a11,a33,a31,a13,a11,a22,a21,a12))\n",
    "    display('s2=({0}+{1}+{2})'.format(((a22*a33)-(a32*a23)),((a11*a33)-(a31*a13)),((a11*a22)-(a21*a12))))\n",
    "    s3=det(amat)\n",
    "    display('s3=det(amat)')\n",
    "    display(\"s3={0}\".format(s3))\n",
    "    display('s1={0} s2={1} s3={2}'.format(s1,s2,s3))\n",
    "    x=sp.symbols('λ')\n",
    "    eq1=sp.Function(\"eq1\")\n",
    "    eq1=Eq((x**3 - (s1)*x**2 +(s2)*x- s3))\n",
    "    display(eq1)\n",
    "    k=sp.factor(eq1)\n",
    "    display(k)\n",
    "    K=solve(k)\n",
    "    print(\"Eigen values are : \",K)\n",
    "    a,b,c,d,e,f=sp.symbols('a b c * = ->')\n",
    "    b1=[a11-x,a12,a13]\n",
    "    b2=[a21,a22-x,a23]\n",
    "    b3=[a31,a32,a33-x]\n",
    "    bmat=sp.Matrix((b1,b2,b3))\n",
    "    xmat=sp.Matrix((a,b,c))\n",
    "    print(\"To find eigen vector\")\n",
    "    display(bmat,d,xmat)\n",
    "    cmat=sp.Matrix((0,0,0))\n",
    "    if(len(K)==2):\n",
    "        print(\"If λ={0}\".format(K[0]))\n",
    "        b1=[a11-K[0],a12,a13]\n",
    "        b2=[a21,a22-K[0],a23]\n",
    "        b3=[a31,a32,a33-K[0]]\n",
    "        bmat=sp.Matrix((b1,b2,b3))\n",
    "        display((bmat,d,xmat,e,cmat,f))\n",
    "        bm1=[a11-K[0],a12,a13,0]\n",
    "        bm2=[a21,a22-K[0],a23,0]\n",
    "        bm3=[a31,a32,a33-K[0],0]\n",
    "        eq2=sp.Function(\"eq2\")\n",
    "        eq3=sp.Function(\"eq3\")\n",
    "        eq4=sp.Function(\"eq4\")\n",
    "        eq2=Eq((a11-K[0])*a+a12*b+a13*c)\n",
    "        eq3=Eq(a21*a+(a22-K[0])*b+a23*c)\n",
    "        eq4=Eq(a31*a+a32*b+(a33-K[0])*c)\n",
    "        display(eq2,eq3,eq4)\n",
    "        system=Matrix((bm1,bm2,bm3))\n",
    "        n=sp.solve_linear_system(system,a,b,c)\n",
    "        display(n)\n",
    "\n",
    "        print(\"If λ={0}\".format(K[1]))\n",
    "        b1=[a11-K[1],a12,a13]\n",
    "        b2=[a21,a22-K[1],a23]\n",
    "        b3=[a31,a32,a33-K[1]]\n",
    "        bmat=sp.Matrix((b1,b2,b3))\n",
    "        display((bmat,d,xmat,e,cmat,f))\n",
    "        bm1=[a11-K[1],a12,a13,0]\n",
    "        bm2=[a21,a22-K[1],a23,0]\n",
    "        bm3=[a31,a32,a33-K[1],0]        \n",
    "        eq2=sp.Function(\"eq2\")\n",
    "        eq3=sp.Function(\"eq3\")\n",
    "        eq4=sp.Function(\"eq4\")\n",
    "        eq2=Eq((a11-K[1])*a+a12*b+a13*c)\n",
    "        eq3=Eq(a21*a+(a22-K[1])*b+a23*c)\n",
    "        eq4=Eq(a31*a+a32*b+(a33-K[1])*c)\n",
    "        display(eq2,eq3,eq4)\n",
    "        system=Matrix((bm1,bm2,bm3))\n",
    "        n=sp.solve_linear_system(system,a,b,c)\n",
    "        display(n)\n",
    "\n",
    "        print(\"Eigen vector\")\n",
    "        j=amat.eigenvects()\n",
    "        display(j)\n",
    "\n",
    "    if(len(K)==3):\n",
    "        print(\"If λ={0}\".format(K[0]))\n",
    "        b1=[a11-K[0],a12,a13]\n",
    "        b2=[a21,a22-K[0],a23]\n",
    "        b3=[a31,a32,a33-K[0]]\n",
    "        bmat=sp.Matrix((b1,b2,b3))\n",
    "        display((bmat,d,xmat,e,cmat,f))\n",
    "        bm1=[a11-K[0],a12,a13,0]\n",
    "        bm2=[a21,a22-K[0],a23,0]\n",
    "        bm3=[a31,a32,a33-K[0],0]\n",
    "        eq2=sp.Function(\"eq2\")\n",
    "        eq3=sp.Function(\"eq3\")\n",
    "        eq4=sp.Function(\"eq4\")\n",
    "        eq2=Eq((a11-K[0])*a+a12*b+a13*c)\n",
    "        eq3=Eq(a21*a+(a22-K[0])*b+a23*c)\n",
    "        eq4=Eq(a31*a+a32*b+(a33-K[0])*c)\n",
    "        display(eq2,eq3,eq4)\n",
    "        system=Matrix((bm1,bm2,bm3))\n",
    "        n=sp.solve_linear_system(system,a,b,c)\n",
    "        display(n)                     \n",
    "        print(\"If λ={0}\".format(K[1]))\n",
    "        b1=[a11-K[1],a12,a13]\n",
    "        b2=[a21,a22-K[1],a23]\n",
    "        b3=[a31,a32,a33-K[1]]\n",
    "        bmat=sp.Matrix((b1,b2,b3))\n",
    "        display((bmat,d,xmat,e,cmat,f))\n",
    "        bm1=[a11-K[1],a12,a13,0]\n",
    "        bm2=[a21,a22-K[1],a23,0]\n",
    "        bm3=[a31,a32,a33-K[1],0]\n",
    "        eq2=sp.Function(\"eq2\")\n",
    "        eq3=sp.Function(\"eq3\")\n",
    "        eq4=sp.Function(\"eq4\")\n",
    "        eq2=Eq((a11-K[1])*a+a12*b+a13*c)\n",
    "        eq3=Eq(a21*a+(a22-K[1])*b+a23*c)\n",
    "        eq4=Eq(a31*a+a32*b+(a33-K[1])*c)\n",
    "        display(eq2,eq3,eq4)\n",
    "        system=Matrix((bm1,bm2,bm3))\n",
    "        n=sp.solve_linear_system(system,a,b,c)\n",
    "        display(n)\n",
    "        print(\"If λ={0}\".format(K[2]))\n",
    "        b1=[a11-K[2],a12,a13]\n",
    "        b2=[a21,a22-K[2],a23]\n",
    "        b3=[a31,a32,a33-K[2]]\n",
    "        bmat=sp.Matrix((b1,b2,b3))\n",
    "        display((bmat,d,xmat,e,cmat,f))\n",
    "        bm1=[a11-K[2],a12,a13,0]\n",
    "        bm2=[a21,a22-K[2],a23,0]\n",
    "        bm3=[a31,a32,a33-K[2],0]\n",
    "        eq2=sp.Function(\"eq2\")\n",
    "        eq3=sp.Function(\"eq3\")\n",
    "        eq4=sp.Function(\"eq4\")\n",
    "        eq2=Eq((a11-K[2])*a+a12*b+a13*c)\n",
    "        eq3=Eq(a21*a+(a22-K[2])*b+a23*c)\n",
    "        eq4=Eq(a31*a+a32*b+(a33-K[2])*c)                 \n",
    "        display(eq2,eq3,eq4)\n",
    "        system=Matrix((bm1,bm2,bm3))\n",
    "\n",
    "        n=sp.solve_linear_system(system,a,b,c)\n",
    "        display(n)\n",
    "\n",
    "        print(\"Eigen vector\")\n",
    "\n",
    "        j=amat.eigenvects()\n",
    "        display(j)\n",
    "elif inum==4:\n",
    "    print('___________________----Welcome to Eigen value and Eigen vector Calculation----___________________')\n",
    "    print('1. Vector method\\n2. Matrix method')\n",
    "    ornum=int(input('Enter method to do Orthogonalization'))\n",
    "    if ornum==1:\n",
    "        mv1,mv2,mv3,eq=sp.symbols('||V1|| ||V2|| ||V3|| =')\n",
    "        su1,su2,su3,sv1,sv2,sv3=sp.symbols('U1 U2 U3 V1 V2 V3') \n",
    "        bu1,bu2,bu3=Bra('U1'),Bra('U2'),Bra('U3')\n",
    "        bv1,bv2,bv3=Bra('V1'),Bra('V2'),Bra('V3')\n",
    "        ku1,ku2,ku3=Ket('U1'),Ket('U2'),Ket('U3')\n",
    "        kv1,kv2,kv3=Ket('V1'),Ket('V2'),Ket('V3')\n",
    "\n",
    "        u1=Matrix(list(map(int,input('Vector 1 :').split())))\n",
    "        u2=Matrix(list(map(int,input('Vector 2 :').split())))\n",
    "        u3=Matrix(list(map(int,input('Vector 3 :').split())))\n",
    "\n",
    "        print('Let the given vectors be {u1,u2,u3}')\n",
    "        display((u1,u2,u3))\n",
    "\n",
    "        eq1=Eq(su1,sv1)\n",
    "        display(eq1)\n",
    "        display((sv1,eq,u1))\n",
    "        v1=u1\n",
    "        print('For our convinience we first find self inner products of v1')\n",
    "        v1s=v1.dot(v1)\n",
    "        ev1s=Bra(v1)*Ket(v1)\n",
    "        display((mv1**2,eq,bv1*kv1,eq,ev1s,eq,v1s))\n",
    "        eq2=(((su2-((bu2*kv1)/(mv1**2))*su1)))\n",
    "        display((sv2,eq,eq2))\n",
    "        u2v1=u2.dot(v1)\n",
    "        display((bu2*kv1,eq,Bra(u2)*Ket(v1),eq,u2v1))                    \n",
    "        div1=u2v1/v1s\n",
    "        v2=u2-(div1*v1)\n",
    "        display((sv2,eq,v2))\n",
    "        v2s=v2.dot(v2)\n",
    "        display((bv2*kv2,eq,Bra(v2)*Ket(v2),eq,v2s))\n",
    "        eq3=((su3-(((bu3*kv1/(mv1**2))*sv1)-((bu3*kv2)/(mv2**2))*sv2)))\n",
    "        display((sv3,eq,eq3))\n",
    "        u3v1=u3.dot(v1)\n",
    "        u3v2=u3.dot(v2)\n",
    "        display((bu3*kv1,eq,Bra(u3)*Ket(v1),eq,u3v1))                    \n",
    "        display((bu3*kv2,eq,Bra(u3)*Ket(v2),eq,u3v2))   \n",
    "        v2s=v2.dot(v2)\n",
    "        ev2s=Bra(v2)*Ket(v2)\n",
    "        display((mv2**2,eq,bv2*kv2,eq,ev2s,eq,v2s))\n",
    "        div2=u3v1/v1s\n",
    "        div3=u2v1/v2s\n",
    "        v3=u3-(div2*v1)-(div3*v2)\n",
    "        display((sv3,eq,v3))\n",
    "        v3s=v3.dot(v3)\n",
    "        ev3s=Bra(v3)*Ket(v3)\n",
    "        display((mv3**2,eq,bv3*kv3,eq,ev3s,eq,v3s))\n",
    "        print('Orthogonal Vectors We Got')\n",
    "        display((v1,v2,v3))\n",
    "        print('Orthonormal Basis')\n",
    "\n",
    "        w1,w2,w3,mul,div=sp.symbols('w1 w2 w3 * /')\n",
    "        display((w1,eq,(sv1/mv1)))\n",
    "        display((w2,eq,(sv2/mv2)))\n",
    "        display((w3,eq,(sv3/mv3)))\n",
    "        W1=v1/sqrt(v1s)\n",
    "        W2=v2/sqrt(v2s)\n",
    "        W3=v3/sqrt(v3s)\n",
    "        display((w1,eq,v1,div,sqrt(v1s)))\n",
    "        display((w1,eq,W1))\n",
    "        display((w2,eq,v2,div,sqrt(v2s)))\n",
    "        display((w2,eq,W2))\n",
    "        display((w3,eq,v3,div,sqrt(v3s)))\n",
    "        display((w3,eq,W3))\n",
    "        print('The obtained Orthonormal Basis is ')\n",
    "        display((W1,W2,W3))\n",
    "        quit()\n",
    "    elif ornum==2:\n",
    "        mv1,mv2,mv3,eq=sp.symbols('||V1|| ||V2|| ||V3|| =')\n",
    "        su1,su2,su3,sv1,sv2,sv3=sp.symbols('U1 U2 U3 V1 V2 V3')                \n",
    "        bv1,bv2,bv3=Bra('V1'),Bra('V2'),Bra('V3')\n",
    "        bu1,bu2,bu3=Bra('U1'),Bra('U2'),Bra('U3')\n",
    "        ku1,ku2,ku3=Ket('U1'),Ket('U2'),Ket('U3')\n",
    "        kv1,kv2,kv3=Ket('V1'),Ket('V2'),Ket('V3')\n",
    "        w1,w2,w3,mul,div=sp.symbols('w1 w2 w3 * /')\n",
    "\n",
    "        a11,a12,a21,a22=map(int,input('Enter the matrix elements of A : ').split())\n",
    "        b11,b12,b21,b22=map(int,input('Enter the matrix elements of A : ').split())\n",
    "        c11,c12,c21,c22=map(int,input('Enter the matrix elements of A : ').split())\n",
    "        ar1,ar2=[a11,a12],[a21,a22]\n",
    "        br1,br2=[b11,b12],[b21,b22]\n",
    "        cr1,cr2=[c11,c12],[c21,c22]\n",
    "        print('Let u1 , u2 and u3 be given basis')\n",
    "        matu1=Matrix((ar1,ar2))\n",
    "        display(matu1)\n",
    "        matu2=Matrix((br1,br2))\n",
    "        display(matu2)\n",
    "        matu3=Matrix((cr1,cr2))\n",
    "        display(matu3)\n",
    "        matv1=matu1\n",
    "        display((sv1,eq,su1))\n",
    "        display((sv1,eq,matv1))\n",
    "        mev1s=Bra(Transpose(matv1))*Ket(Transpose(Transpose(matv1)))\n",
    "        mv1s=trace(Transpose(matv1)*matv1)\n",
    "        display((mv1**2,eq,bv1*kv1,eq,mev1s,eq,Trace(Transpose(matv1)*matv1),eq,mv1s))\n",
    "        eq2=Eq(((su2-((bu2*kv1)/(mv1**2))*su1)),sv2)\n",
    "        display(eq2)\n",
    "        mu2mv1=trace(Transpose(matu2)*matv1)\n",
    "        display((bu2*kv1,eq,Bra(Transpose(matv1))*Ket(Transpose(Transpose(matu2))),eq,Trace(Transpose(matv1)*matu2),eq,mu2mv1))\n",
    "        mdiv1=mu2mv1/mv1s\n",
    "        matv2=matu2-(matu1*mdiv1)\n",
    "        display((sv2,eq,matv2))\n",
    "        mev2s=Bra(Transpose(matv2))*Ket(Transpose(Transpose(matv2)))\n",
    "        mv2s=trace(Transpose(matv2)*matv2)\n",
    "        display((mv2**2,eq,bv2*kv2,eq,mev2s,eq,Trace(Transpose(matv2)*matv2),eq,mv2s))\n",
    "        eq3=((su3-(((bu3*kv1)/(mv1**2))*sv1)-((bu3*kv2)/(mv2**2))*sv2))\n",
    "        display((eq3,eq,sv3))\n",
    "        mu3mv1=trace(Transpose(matv1)*matu3)\n",
    "        mu3mv2=trace(Transpose(matv2)*matu3)\n",
    "        display((bu3*kv1,eq,Bra(Transpose(matv1))*Ket(Transpose(Transpose(matu3))),eq,Trace(Transpose(matv1)*matu3),eq,mu3mv1))                    \n",
    "        display((bu3*kv2,eq,Bra(Transpose(matv2))*Ket(Transpose(Transpose(matu3))),eq,Trace(Transpose(matv2)*matu3),eq,mu3mv2))   \n",
    "        mdiv2=mu3mv1/mv1s\n",
    "        mdiv3=mu3mv2/mv2s\n",
    "        matv3=matu3-(mdiv2*matv1)-(mdiv3*matv2)\n",
    "        display((sv3,eq,matv3))\n",
    "        mev3s=Bra(Transpose(matv3))*Ket(Transpose(Transpose(matv3)))\n",
    "        mv3s=trace(transpose(matv3)*matv3)\n",
    "        display((mv3**2,eq,bv3*kv3,eq,mev3s,eq,Trace(Transpose(matv3)*matv3),eq,mv3s))\n",
    "        print('Orthogonal basis We Got')\n",
    "        display((matv1,matv2,matv3))\n",
    "        print('Orthonormal Basis')\n",
    "        display((w1,eq,(sv1/mv1)))\n",
    "        display((w2,eq,(sv2/mv2)))\n",
    "        display((w3,eq,(sv3/mv3)))\n",
    "        matW1=matv1/sqrt(mv1s)\n",
    "        matW2=matv2/sqrt(mv2s)\n",
    "        matW3=matv3/sqrt(mv3s)\n",
    "        display((w1,eq,matv1,div,sqrt(mv1s)))\n",
    "        display((w1,eq,matW1))\n",
    "        display((w2,eq,matv2,div,sqrt(mv2s)))\n",
    "        display((w2,eq,matW2))\n",
    "        display((w3,eq,matv3,div,sqrt(mv3s)))\n",
    "        display((w3,eq,matW3))\n",
    "        print('The obtained Orthonormal Basis is ')\n",
    "        display((matW1,matW2,matW3))\n",
    "        quit()\n",
    "elif inum==5:\n",
    "    print('_______________________----Welcome To Calculate QR decomposition----_______________________')\n",
    "    mv1,mv2,mv3,eq=sp.symbols('||u1|| ||u2|| ||u3|| =')\n",
    "    su1,su2,su3,sv1,sv2,sv3=sp.symbols('a1 a2 a3 u1 u2 u3')                \n",
    "    bv1,bv2,bv3=Bra('u1'),Bra('u2'),Bra('u3')\n",
    "    ku1,ku2,ku3=Ket('a1'),Ket('a2'),Ket('a3')\n",
    "    kv1,kv2,kv3=Ket('u1'),Ket('u2'),Ket('u3')\n",
    "\n",
    "    u1=list(map(int,input('coloumn 1 :').split()))\n",
    "    u2=list(map(int,input('coloumn 2 :').split()))\n",
    "    u3=list(map(int,input('coloumn 3 :').split()))\n",
    "    amat=transpose(Matrix((u1,u2,u3)))\n",
    "    display(amat)\n",
    "\n",
    "    miu1,miu2,miu3=Matrix(u1),Matrix(u2),Matrix(u3)\n",
    "    print('Let the given vectors be {a1,a2,a3}')\n",
    "    display((u1,u2,u3))\n",
    "\n",
    "    eq1=Eq(su1,sv1)\n",
    "    display(eq1)\n",
    "    display((sv1,eq,miu1))\n",
    "    v1=miu1\n",
    "    print('For our convinience we first find self inner products of v1')\n",
    "    v1s=simplify(v1.dot(v1))\n",
    "    ev1s=Bra(v1)*Ket(v1)\n",
    "    display((mv1**2,eq,bv1*kv1,eq,ev1s,eq,v1s))\n",
    "    eq2=Eq(((su2-((bv2*ku1)/(mv1**2))*su1)),sv2)\n",
    "    display(eq2)\n",
    "    u2v1=simplify(miu2.dot(v1))\n",
    "    display((bv1*ku2,eq,Bra(u2)*Ket(v1),eq,u2v1))                    \n",
    "    div1=simplify((u2v1/v1s))\n",
    "    v2=simplify(miu2-(div1*v1))\n",
    "    display((sv2,eq,v2))\n",
    "    v2s=simplify(v2.dot(v2))\n",
    "    display((bv2*kv2,eq,Bra(v2)*Ket(v2),eq,v2s))\n",
    "    eq3=((su3-(((bv3*ku1)/(mv1**2))*sv1)-((bv3*ku2)/(mv2**2))*sv2))\n",
    "    display((eq3,eq,sv3))\n",
    "    u3v1=simplify(miu3.dot(v1))\n",
    "    u3v2=simplify(miu3.dot(v2))\n",
    "    display((bv3*ku1,eq,Bra(u3)*Ket(v1),eq,u3v1))                    \n",
    "    display((bv3*ku2,eq,Bra(u3)*Ket(v2),eq,u3v2))   \n",
    "    v2s=simplify(v2.dot(v2))\n",
    "    ev2s=Bra(v2)*Ket(v2)\n",
    "    display((mv2**2,eq,bv2*kv2,eq,ev2s,eq,v2s))\n",
    "    div2=simplify((u3v1/v1s))\n",
    "    div3=simplify((u3v2/v2s))\n",
    "    v3=simplify((miu3-(div2*v1)-(div3*v2)))\n",
    "    display((sv3,eq,v3))\n",
    "    v3s=simplify(v3.dot(v3))\n",
    "    ev3s=Bra(v3)*Ket(v3)\n",
    "    display((mv3**2,eq,bv3*kv3,eq,ev3s,eq,v3s))\n",
    "    print('Orthogonal Vectors We Got')\n",
    "    display((v1,v2,v3))\n",
    "    print('Orthonormal Basis')\n",
    "\n",
    "    w1,w2,w3,mul,div=sp.symbols('w1 w2 w3 * /')\n",
    "    display((w1,eq,(sv1/mv1)))\n",
    "    display((w2,eq,(sv2/mv2)))\n",
    "    display((w3,eq,(sv3/mv3)))\n",
    "    W1=simplify(v1/sqrt(v1s))\n",
    "    W2=simplify(v2/sqrt(v2s))\n",
    "    W3=simplify(v3/sqrt(v3s))\n",
    "    display((w1,eq,v1,div,simplify(sqrt(v1s))))\n",
    "    display((w1,eq,W1))\n",
    "    display((w2,eq,v2,div,simplify(sqrt(v2s))))\n",
    "    display((w2,eq,W2))\n",
    "    display((w3,eq,v3,div,simplify(sqrt(v3s))))\n",
    "    display((w3,eq,W3))\n",
    "    display((W1,W2,W3))\n",
    "    sq,sr,sa,st=symbols('Q R A T')\n",
    "    display((sq,eq,(((sv1/mv1)),((sv2/mv2)),((sv3/mv3)))))\n",
    "    display((sq,eq,transpose(Matrix((list(W1),list(W2),list(W3))))))\n",
    "    bw1,bw2,bw3=Bra('w1'),Bra('w2'),Bra('w3')\n",
    "    rmmat=Matrix(([bw1*ku1,bw1*ku2,bw1*ku3],[0,bw2*ku2,bw2*ku3],[0,0,bw3*ku3]))\n",
    "    display((sr,eq,rmmat))\n",
    "    a1w1=simplify(miu1.dot(W1))\n",
    "    display((bw1*ku1,eq,Bra(W1)*Ket(miu1),eq,a1w1))\n",
    "    a2w1=simplify(miu2.dot(W1))\n",
    "    display((bw1*ku2,eq,Bra(W1)*Ket(miu2),eq,a2w1))\n",
    "    a3w1=simplify(miu3.dot(W1))\n",
    "    display((bw1*ku3,eq,Bra(W1)*Ket(miu3),eq,a3w1))\n",
    "    a2w2=simplify(miu2.dot(W2))\n",
    "    display((bw2*ku2,eq,Bra(W2)*Ket(miu2),eq,a2w2))\n",
    "    a3w2=simplify(miu3.dot(W2))\n",
    "    display((bw2*ku3,eq,Bra(W2)*Ket(miu3),eq,a3w2))\n",
    "    a3w3=simplify(miu3.dot(W3))\n",
    "    display((bw3*ku3,eq,Bra(miu3)*Ket(W3),eq,a3w3))\n",
    "    rmat=Matrix(([a1w1,a2w1,a3w1],[0,a2w2,a3w2],[0,0,a3w3]))\n",
    "    print('One Last Check')\n",
    "    display((sa,eq,sq*sr,eq,transpose(Matrix((list(W1),list(W2),list(W3)))),mul,rmat,eq,transpose(Matrix((list(W1),list(W2),list(W3))))*rmat))\n",
    "    quit()\n",
    "        \n"
   ]
  },
  {
   "cell_type": "code",
   "execution_count": null,
   "id": "6952225a",
   "metadata": {},
   "outputs": [],
   "source": []
  }
 ],
 "metadata": {
  "kernelspec": {
   "display_name": "Python 3",
   "language": "python",
   "name": "python3"
  },
  "language_info": {
   "codemirror_mode": {
    "name": "ipython",
    "version": 3
   },
   "file_extension": ".py",
   "mimetype": "text/x-python",
   "name": "python",
   "nbconvert_exporter": "python",
   "pygments_lexer": "ipython3",
   "version": "3.9.2"
  }
 },
 "nbformat": 4,
 "nbformat_minor": 5
}
